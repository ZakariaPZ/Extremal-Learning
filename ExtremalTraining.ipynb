{
 "cells": [
  {
   "cell_type": "markdown",
   "metadata": {},
   "source": [
    "## Extremal Training"
   ]
  },
  {
   "cell_type": "markdown",
   "metadata": {},
   "source": [
    "This notebook walks through the technique detailed in https://arxiv.org/abs/2102.03626"
   ]
  },
  {
   "cell_type": "markdown",
   "metadata": {},
   "source": [
    "First, we import dependencies."
   ]
  },
  {
   "cell_type": "code",
   "execution_count": 2,
   "metadata": {},
   "outputs": [],
   "source": [
    "import tensorflow as tf\n",
    "import matplotlib.pyplot as plt\n",
    "from matplotlib import rc\n",
    "import numpy as np"
   ]
  },
  {
   "cell_type": "markdown",
   "metadata": {},
   "source": [
    "Instantiate the model. This model has two layers, with 64 neurons in the first and 32 in the second. We will call this network N1. "
   ]
  },
  {
   "cell_type": "code",
   "execution_count": 3,
   "metadata": {},
   "outputs": [],
   "source": [
    "model = tf.keras.Sequential()\n",
    "model.add(tf.keras.layers.Dense(64, activation='relu', kernel_initializer=\"uniform\"))\n",
    "model.add(tf.keras.layers.Dense(32, activation='relu', kernel_initializer=\"uniform\"))\n",
    "model.add(tf.keras.layers.Dense(1, kernel_initializer=\"uniform\"))"
   ]
  },
  {
   "cell_type": "markdown",
   "metadata": {},
   "source": [
    "### Defining the Input-Optimizing Model"
   ]
  },
  {
   "cell_type": "markdown",
   "metadata": {},
   "source": [
    "This is the class definition for the input-updating network. This will be used later, once the standard model is trained. It is important to note that this network has the same structure as the network N1. This network will be called N2."
   ]
  },
  {
   "cell_type": "code",
   "execution_count": 4,
   "metadata": {},
   "outputs": [],
   "source": [
    "class MLP(tf.keras.Model):\n",
    "    def __init__(self, train_params):\n",
    "        super().__init__()\n",
    "        #The layers of this network match the layers of the standard network N1.\n",
    "        self.L1 = tf.keras.layers.Dense(64, activation='relu', kernel_initializer=\"uniform\")\n",
    "        self.L2 = tf.keras.layers.Dense(32, activation='relu', kernel_initializer=\"uniform\")\n",
    "        self.OutputLayer = tf.keras.layers.Dense(1, kernel_initializer=\"uniform\")\n",
    "        \n",
    "        #Define a tensorflow constant that holds the input of this network.\n",
    "        self.trainInputs = tf.constant(train_params.numpy())\n",
    "    \n",
    "    def updt(self, x, model):\n",
    "        #Tensorflow uses deferrred initialization, so first run the model to create the input shape\n",
    "        self(x)\n",
    "        #Get model weights (which are set as the weights of the dense layers of this new network - this \n",
    "        #is why the model structure needs to match the model structure of the standard network N1)\n",
    "        self.set_weights(model.get_weights())\n",
    "        #Freeze all the weights of the network so that they are not trained during gradient descent\n",
    "        self.L1.trainable = False\n",
    "        self.L2.trainable = False\n",
    "        self.OutputLayer.trainable = False\n",
    "        #Set the trainInputs attribute to trainable - it is not exactly a part of the neural network here,\n",
    "        #but rather just the input\n",
    "        self.trainInputs = tf.Variable(x.numpy(), trainable=True)\n",
    "    \n",
    "    def call(self, x_dummy):\n",
    "        #x_dummy is not used, but it's needed to use the .call(x) method\n",
    "        #Run the model with the trainInputs as the input each time .call(x) is used\n",
    "        x = self.trainInputs\n",
    "        return self.OutputLayer((self.L2(self.L1(x))))"
   ]
  },
  {
   "cell_type": "markdown",
   "metadata": {},
   "source": [
    "### Generating the data"
   ]
  },
  {
   "cell_type": "markdown",
   "metadata": {},
   "source": [
    "This is the function that the network is trained to mimic."
   ]
  },
  {
   "cell_type": "code",
   "execution_count": 5,
   "metadata": {},
   "outputs": [],
   "source": [
    "# Generating function\n",
    "def genFunc(x_feats):\n",
    "    y = 1 - tf.abs(x_feats[:, 0]) - tf.square(x_feats[:, 1]) - x_feats[:, 2] - tf.exp(x_feats[:, 3]) + tf.random.normal(mean = 0.0, stddev = 0.05, shape = (x_feats[:, 0].shape))\n",
    "    return y"
   ]
  },
  {
   "cell_type": "markdown",
   "metadata": {},
   "source": [
    "This code generates the data to be fed into the function we are trying to model (above). A random seed is set to keep the code consistent each time it is run."
   ]
  },
  {
   "cell_type": "code",
   "execution_count": 6,
   "metadata": {},
   "outputs": [],
   "source": [
    "def generateData():\n",
    "    tf.random.set_seed(10)\n",
    "    x1 = tf.random.uniform(shape=(1000, 1), minval=-1, maxval=1)\n",
    "    x2 = tf.random.uniform(shape=(1000, 1), minval=-1, maxval=1)\n",
    "    x3 = tf.random.uniform(shape=(1000, 1), minval=-1, maxval=1)\n",
    "    x4 = tf.random.uniform(shape=(1000, 1), minval=-1, maxval=1)\n",
    "    x_feats = tf.concat([x1, x2, x3, x4], 1)\n",
    "    \n",
    "    return x_feats"
   ]
  },
  {
   "cell_type": "code",
   "execution_count": 7,
   "metadata": {},
   "outputs": [],
   "source": [
    "x_feats = generateData()"
   ]
  },
  {
   "cell_type": "code",
   "execution_count": 8,
   "metadata": {},
   "outputs": [
    {
     "data": {
      "text/plain": [
       "(array([45., 35., 52., 46., 50., 45., 62., 54., 50., 61., 49., 62., 47.,\n",
       "        60., 53., 44., 45., 50., 47., 43.]),\n",
       " array([-9.9817276e-01, -8.9828891e-01, -7.9840499e-01, -6.9852114e-01,\n",
       "        -5.9863722e-01, -4.9875337e-01, -3.9886948e-01, -2.9898560e-01,\n",
       "        -1.9910173e-01, -9.9217854e-02,  6.6602230e-04,  1.0054990e-01,\n",
       "         2.0043378e-01,  3.0031765e-01,  4.0020153e-01,  5.0008541e-01,\n",
       "         5.9996927e-01,  6.9985318e-01,  7.9973704e-01,  8.9962095e-01,\n",
       "         9.9950480e-01], dtype=float32),\n",
       " <a list of 20 Patch objects>)"
      ]
     },
     "execution_count": 8,
     "metadata": {},
     "output_type": "execute_result"
    },
    {
     "data": {
      "image/png": "[encoded data removed]",
      "text/plain": [
       "<Figure size 432x288 with 1 Axes>"
      ]
     },
     "metadata": {
      "needs_background": "light"
     },
     "output_type": "display_data"
    }
   ],
   "source": [
    "plt.hist(x_feats[:,0], bins=20)"
   ]
  },
  {
   "cell_type": "markdown",
   "metadata": {},
   "source": [
    "The output needs to be reshaped so that it can be fed into the model."
   ]
  },
  {
   "cell_type": "code",
   "execution_count": 9,
   "metadata": {},
   "outputs": [],
   "source": [
    "y = tf.reshape(genFunc(x_feats), shape=(1000,))"
   ]
  },
  {
   "cell_type": "markdown",
   "metadata": {},
   "source": [
    "### Training the model"
   ]
  },
  {
   "cell_type": "markdown",
   "metadata": {},
   "source": [
    "Here, the model's learning rate, optimizer and loss function are set. "
   ]
  },
  {
   "cell_type": "code",
   "execution_count": 11,
   "metadata": {},
   "outputs": [],
   "source": [
    "learning_rate = 0.001\n",
    "opt = tf.keras.optimizers.Adam(learning_rate=learning_rate)\n",
    "model.compile(optimizer=opt, loss=tf.keras.losses.MSE)"
   ]
  },
  {
   "cell_type": "code",
   "execution_count": 12,
   "metadata": {},
   "outputs": [
    {
     "name": "stdout",
     "output_type": "stream",
     "text": [
      "Epoch 1/80\n",
      "1000/1000 [==============================] - 1s 663us/step - loss: 0.3338\n",
      "Epoch 2/80\n",
      "1000/1000 [==============================] - 1s 662us/step - loss: 0.0391\n",
      "Epoch 3/80\n",
      "1000/1000 [==============================] - 1s 702us/step - loss: 0.0126\n",
      "Epoch 4/80\n",
      "1000/1000 [==============================] - 1s 694us/step - loss: 0.0107\n",
      "Epoch 5/80\n",
      "1000/1000 [==============================] - 1s 656us/step - loss: 0.0104\n",
      "Epoch 6/80\n",
      "1000/1000 [==============================] - 1s 768us/step - loss: 0.0086\n",
      "Epoch 7/80\n",
      "1000/1000 [==============================] - 1s 719us/step - loss: 0.0075\n",
      "Epoch 8/80\n",
      "1000/1000 [==============================] - 1s 722us/step - loss: 0.0075\n",
      "Epoch 9/80\n",
      "1000/1000 [==============================] - 1s 747us/step - loss: 0.0073\n",
      "Epoch 10/80\n",
      "1000/1000 [==============================] - 1s 748us/step - loss: 0.0074\n",
      "Epoch 11/80\n",
      "1000/1000 [==============================] - 1s 704us/step - loss: 0.0073\n",
      "Epoch 12/80\n",
      "1000/1000 [==============================] - 1s 688us/step - loss: 0.0068\n",
      "Epoch 13/80\n",
      "1000/1000 [==============================] - 1s 775us/step - loss: 0.0064\n",
      "Epoch 14/80\n",
      "1000/1000 [==============================] - 1s 718us/step - loss: 0.0062\n",
      "Epoch 15/80\n",
      "1000/1000 [==============================] - 1s 696us/step - loss: 0.0063\n",
      "Epoch 16/80\n",
      "1000/1000 [==============================] - 1s 907us/step - loss: 0.0059\n",
      "Epoch 17/80\n",
      "1000/1000 [==============================] - 1s 646us/step - loss: 0.0063\n",
      "Epoch 18/80\n",
      "1000/1000 [==============================] - 1s 713us/step - loss: 0.0064\n",
      "Epoch 19/80\n",
      "1000/1000 [==============================] - 1s 674us/step - loss: 0.0058\n",
      "Epoch 20/80\n",
      "1000/1000 [==============================] - 1s 716us/step - loss: 0.0065\n",
      "Epoch 21/80\n",
      "1000/1000 [==============================] - 1s 806us/step - loss: 0.0060\n",
      "Epoch 22/80\n",
      "1000/1000 [==============================] - 1s 719us/step - loss: 0.0051\n",
      "Epoch 23/80\n",
      "1000/1000 [==============================] - 1s 655us/step - loss: 0.0064\n",
      "Epoch 24/80\n",
      "1000/1000 [==============================] - 1s 710us/step - loss: 0.0056\n",
      "Epoch 25/80\n",
      "1000/1000 [==============================] - 1s 719us/step - loss: 0.0057\n",
      "Epoch 26/80\n",
      "1000/1000 [==============================] - 1s 744us/step - loss: 0.0058\n",
      "Epoch 27/80\n",
      "1000/1000 [==============================] - 1s 769us/step - loss: 0.0062\n",
      "Epoch 28/80\n",
      "1000/1000 [==============================] - 1s 685us/step - loss: 0.0058\n",
      "Epoch 29/80\n",
      "1000/1000 [==============================] - 1s 753us/step - loss: 0.0055\n",
      "Epoch 30/80\n",
      "1000/1000 [==============================] - 1s 694us/step - loss: 0.0059\n",
      "Epoch 31/80\n",
      "1000/1000 [==============================] - 1s 603us/step - loss: 0.0059\n",
      "Epoch 32/80\n",
      "1000/1000 [==============================] - 1s 592us/step - loss: 0.0055\n",
      "Epoch 33/80\n",
      "1000/1000 [==============================] - 1s 619us/step - loss: 0.0052\n",
      "Epoch 34/80\n",
      "1000/1000 [==============================] - 1s 679us/step - loss: 0.0058\n",
      "Epoch 35/80\n",
      "1000/1000 [==============================] - 1s 632us/step - loss: 0.0053\n",
      "Epoch 36/80\n",
      "1000/1000 [==============================] - 1s 654us/step - loss: 0.0056\n",
      "Epoch 37/80\n",
      "1000/1000 [==============================] - 1s 616us/step - loss: 0.0057\n",
      "Epoch 38/80\n",
      "1000/1000 [==============================] - 1s 665us/step - loss: 0.0060\n",
      "Epoch 39/80\n",
      "1000/1000 [==============================] - 1s 619us/step - loss: 0.0051\n",
      "Epoch 40/80\n",
      "1000/1000 [==============================] - 1s 636us/step - loss: 0.0052\n",
      "Epoch 41/80\n",
      "1000/1000 [==============================] - 1s 769us/step - loss: 0.0050\n",
      "Epoch 42/80\n",
      "1000/1000 [==============================] - 1s 749us/step - loss: 0.0051\n",
      "Epoch 43/80\n",
      "1000/1000 [==============================] - 1s 747us/step - loss: 0.0052\n",
      "Epoch 44/80\n",
      "1000/1000 [==============================] - 1s 862us/step - loss: 0.0046\n",
      "Epoch 45/80\n",
      "1000/1000 [==============================] - 1s 797us/step - loss: 0.0050\n",
      "Epoch 46/80\n",
      "1000/1000 [==============================] - 1s 630us/step - loss: 0.0050\n",
      "Epoch 47/80\n",
      "1000/1000 [==============================] - 1s 626us/step - loss: 0.0052\n",
      "Epoch 48/80\n",
      "1000/1000 [==============================] - 1s 693us/step - loss: 0.0049\n",
      "Epoch 49/80\n",
      "1000/1000 [==============================] - 1s 643us/step - loss: 0.0056\n",
      "Epoch 50/80\n",
      "1000/1000 [==============================] - 1s 571us/step - loss: 0.0050\n",
      "Epoch 51/80\n",
      "1000/1000 [==============================] - 1s 633us/step - loss: 0.0051\n",
      "Epoch 52/80\n",
      "1000/1000 [==============================] - 1s 601us/step - loss: 0.0050\n",
      "Epoch 53/80\n",
      "1000/1000 [==============================] - 1s 604us/step - loss: 0.0048\n",
      "Epoch 54/80\n",
      "1000/1000 [==============================] - 1s 583us/step - loss: 0.0054\n",
      "Epoch 55/80\n",
      "1000/1000 [==============================] - 1s 596us/step - loss: 0.0050\n",
      "Epoch 56/80\n",
      "1000/1000 [==============================] - 1s 639us/step - loss: 0.0045\n",
      "Epoch 57/80\n",
      "1000/1000 [==============================] - 1s 640us/step - loss: 0.0046\n",
      "Epoch 58/80\n",
      "1000/1000 [==============================] - 1s 630us/step - loss: 0.0052\n",
      "Epoch 59/80\n",
      "1000/1000 [==============================] - 1s 626us/step - loss: 0.0047\n",
      "Epoch 60/80\n",
      "1000/1000 [==============================] - 1s 614us/step - loss: 0.0041\n",
      "Epoch 61/80\n",
      "1000/1000 [==============================] - 1s 657us/step - loss: 0.0044\n",
      "Epoch 62/80\n",
      "1000/1000 [==============================] - 1s 585us/step - loss: 0.0049\n",
      "Epoch 63/80\n",
      "1000/1000 [==============================] - 1s 623us/step - loss: 0.0054\n",
      "Epoch 64/80\n",
      "1000/1000 [==============================] - 1s 658us/step - loss: 0.0049\n",
      "Epoch 65/80\n",
      "1000/1000 [==============================] - 1s 606us/step - loss: 0.0046\n",
      "Epoch 66/80\n",
      "1000/1000 [==============================] - 1s 597us/step - loss: 0.0046\n",
      "Epoch 67/80\n",
      "1000/1000 [==============================] - 1s 692us/step - loss: 0.0044\n",
      "Epoch 68/80\n",
      "1000/1000 [==============================] - 1s 623us/step - loss: 0.0045\n",
      "Epoch 69/80\n",
      "1000/1000 [==============================] - 1s 678us/step - loss: 0.0049\n",
      "Epoch 70/80\n",
      "1000/1000 [==============================] - 1s 823us/step - loss: 0.0042\n",
      "Epoch 71/80\n",
      "1000/1000 [==============================] - 1s 637us/step - loss: 0.0044\n",
      "Epoch 72/80\n",
      "1000/1000 [==============================] - 1s 788us/step - loss: 0.0047\n",
      "Epoch 73/80\n",
      "1000/1000 [==============================] - 1s 618us/step - loss: 0.0044\n",
      "Epoch 74/80\n",
      "1000/1000 [==============================] - 1s 582us/step - loss: 0.0047\n",
      "Epoch 75/80\n",
      "1000/1000 [==============================] - 1s 719us/step - loss: 0.0045\n",
      "Epoch 76/80\n",
      "1000/1000 [==============================] - 1s 666us/step - loss: 0.0041\n",
      "Epoch 77/80\n",
      "1000/1000 [==============================] - 1s 667us/step - loss: 0.0045\n",
      "Epoch 78/80\n",
      "1000/1000 [==============================] - 1s 635us/step - loss: 0.0047\n",
      "Epoch 79/80\n",
      "1000/1000 [==============================] - 1s 657us/step - loss: 0.0052\n",
      "Epoch 80/80\n",
      "1000/1000 [==============================] - 1s 646us/step - loss: 0.0045\n"
     ]
    },
    {
     "data": {
      "text/plain": [
       "<tensorflow.python.keras.callbacks.History at 0x14f91c294a8>"
      ]
     },
     "execution_count": 12,
     "metadata": {},
     "output_type": "execute_result"
    }
   ],
   "source": [
    "model.fit(x_feats, y, epochs = 80, batch_size=1)"
   ]
  },
  {
   "cell_type": "markdown",
   "metadata": {},
   "source": [
    "This code allows for a visual check of whether the model is accurately modelling the function we trained it on. "
   ]
  },
  {
   "cell_type": "code",
   "execution_count": 14,
   "metadata": {},
   "outputs": [],
   "source": [
    "# Feature generation\n",
    "rc('font',**{'family':'sans-serif','sans-serif':['Helvetica']})\n",
    "rc('text', usetex=True)\n",
    "\n",
    "def plotComparision(x_feats, model):\n",
    "    inputs = ['Carbohydrate', 'Protein', 'Cake', 'Candy']\n",
    "    numFeats = 4\n",
    "    feats = [x_feats[0], x_feats[1], x_feats[2], x_feats[3]]\n",
    "    for i in range(numFeats):\n",
    "        for j in range(len(feats)):\n",
    "            feats[j] = tf.zeros(shape=(1000,1))\n",
    "        \n",
    "        \n",
    "        #reassign the ith dimension/feature\n",
    "        feats[i] = tf.reshape(tf.range(-1, 1, 0.002), shape=(1000, 1))\n",
    "        x_feats = tf.concat(feats, 1)\n",
    "        \n",
    "        plt.figure(i)\n",
    "        \n",
    "        plt.rc('text', usetex=True)\n",
    "        plt.rc('font', family='serif')\n",
    "        \n",
    "        plt.plot(feats[i], genFunc(x_feats), label='Generated Training Data')\n",
    "        plt.plot(feats[i], model(x_feats), label='Model Prediction')\n",
    "        \n",
    "        plt.xlabel(r'\\textbf{Intake}')\n",
    "        plt.ylabel(r'\\textbf{Health}')\n",
    "        plt.title(  \n",
    "                  r\"Health vs. \" + inputs[i] + \" Intake\",\n",
    "                  fontsize=16, color='black')\n",
    "\n",
    "        plt.legend()"
   ]
  },
  {
   "cell_type": "code",
   "execution_count": 15,
   "metadata": {},
   "outputs": [
    {
     "data": {
      "image/png": "[encoded data removed]",
      "text/plain": [
       "<Figure size 432x288 with 1 Axes>"
      ]
     },
     "metadata": {
      "needs_background": "light"
     },
     "output_type": "display_data"
    },
    {
     "data": {
      "image/png": "[encoded data removed]",
      "text/plain": [
       "<Figure size 432x288 with 1 Axes>"
      ]
     },
     "metadata": {
      "needs_background": "light"
     },
     "output_type": "display_data"
    },
    {
     "data": {
      "image/png": "[encoded data removed]",
      "text/plain": [
       "<Figure size 432x288 with 1 Axes>"
      ]
     },
     "metadata": {
      "needs_background": "light"
     },
     "output_type": "display_data"
    },
    {
     "data": {
      "image/png": "[encoded data removed]",
      "text/plain": [
       "<Figure size 432x288 with 1 Axes>"
      ]
     },
     "metadata": {
      "needs_background": "light"
     },
     "output_type": "display_data"
    }
   ],
   "source": [
    "plotComparision(x_feats, model)"
   ]
  },
  {
   "cell_type": "code",
   "execution_count": 16,
   "metadata": {},
   "outputs": [
    {
     "name": "stdout",
     "output_type": "stream",
     "text": [
      "Model: \"sequential\"\n",
      "_________________________________________________________________\n",
      "Layer (type)                 Output Shape              Param #   \n",
      "=================================================================\n",
      "dense (Dense)                (None, 64)                320       \n",
      "_________________________________________________________________\n",
      "dense_1 (Dense)              (None, 32)                2080      \n",
      "_________________________________________________________________\n",
      "dense_2 (Dense)              (None, 1)                 33        \n",
      "=================================================================\n",
      "Total params: 2,433\n",
      "Trainable params: 2,433\n",
      "Non-trainable params: 0\n",
      "_________________________________________________________________\n"
     ]
    }
   ],
   "source": [
    "model.summary()"
   ]
  },
  {
   "cell_type": "markdown",
   "metadata": {},
   "source": [
    "### Optimizing the input"
   ]
  },
  {
   "cell_type": "markdown",
   "metadata": {},
   "source": [
    "In this section, the an input we give to the optimizing model N2 is going to be optimized. \n",
    "\n",
    "First, the four features of the input are randomly generated."
   ]
  },
  {
   "cell_type": "code",
   "execution_count": 17,
   "metadata": {},
   "outputs": [],
   "source": [
    "tf.random.set_seed(42)\n",
    "optimizationModel = MLP(tf.random.normal(shape=(1, 4)))\n",
    "optimizationModel.updt(tf.random.normal(shape=(1, 4)), model)"
   ]
  },
  {
   "cell_type": "code",
   "execution_count": 18,
   "metadata": {},
   "outputs": [
    {
     "name": "stdout",
     "output_type": "stream",
     "text": [
      "[[ 0.08422458 -0.86090374  0.37812304 -0.00519627]]\n"
     ]
    }
   ],
   "source": [
    "inputInit = optimizationModel.trainable_variables[0].numpy().copy()\n",
    "print(inputInit)"
   ]
  },
  {
   "cell_type": "code",
   "execution_count": 19,
   "metadata": {},
   "outputs": [
    {
     "data": {
      "text/plain": [
       "<tf.Tensor: shape=(1, 1), dtype=float32, numpy=array([[-1.2307081]], dtype=float32)>"
      ]
     },
     "execution_count": 19,
     "metadata": {},
     "output_type": "execute_result"
    }
   ],
   "source": [
    "model(optimizationModel.trainable_variables[0].numpy())"
   ]
  },
  {
   "cell_type": "markdown",
   "metadata": {},
   "source": [
    "The custom loss functions are defined as found in the paper."
   ]
  },
  {
   "cell_type": "code",
   "execution_count": 20,
   "metadata": {},
   "outputs": [],
   "source": [
    "def maximizationLoss(y_dummy, y_pred):\n",
    "       \n",
    "    result = tf.cond(y_pred <= tf.constant([0.0]), lambda : -10*y_pred + 1, lambda : 1/(tf.square(y_pred) + 1))\n",
    "    return result\n",
    "\n",
    "def extrapolationLoss(weights, x):\n",
    "\n",
    "    mean = tf.reshape(tf.reduce_mean(x, axis=0), shape=(1, 4))\n",
    "    x_std_expand = tf.reshape(tf.math.reduce_std(x, axis=0), shape=(1, 4))\n",
    "\n",
    "    #How many std's to allow the extrapolation to be within\n",
    "    num_stds = 2\n",
    "    \n",
    "    #Creates a matrix of zeros with the same shape as the input vector x\n",
    "    zero_mat = tf.zeros(weights[0].shape)\n",
    "    \n",
    "    #At each element, loss_1 is assigned the value of x if the condition is true, else y (which is filled with zeros)\n",
    "    loss_1 = tf.raw_ops.Select(\n",
    "        condition = weights[0] < (means - num_stds*x_std_expand), x = weights[0]-mean+num_stds*x_std_expand, y = zero_mat, name=None\n",
    "    )\n",
    "    \n",
    "    loss_2 = tf.raw_ops.Select(\n",
    "        condition = weights[0] > (means + num_stds*x_std_expand), x = weights[0]-mean-num_stds*x_std_expand, y = zero_mat, name=None\n",
    "    )\n",
    "    \n",
    "    #Return squared loss \n",
    "    return (tf.reduce_sum(tf.square(loss_1)) + tf.reduce_sum(tf.square(loss_1)))"
   ]
  },
  {
   "cell_type": "code",
   "execution_count": 21,
   "metadata": {},
   "outputs": [
    {
     "data": {
      "text/plain": [
       "(array([[0.55495155, 0.5766216 , 0.5774474 , 0.56745553]], dtype=float32),\n",
       " array([[ 0.0068051 , -0.02758399,  0.0049364 ,  0.00633236]],\n",
       "       dtype=float32))"
      ]
     },
     "execution_count": 21,
     "metadata": {},
     "output_type": "execute_result"
    }
   ],
   "source": [
    "means = tf.reshape(tf.reduce_mean(x_feats, axis=0), shape=(1, 4)).numpy()\n",
    "stds = tf.reshape(tf.math.reduce_std(x_feats, axis=0), shape=(1, 4)).numpy()\n",
    "\n",
    "stds, means"
   ]
  },
  {
   "cell_type": "code",
   "execution_count": 22,
   "metadata": {},
   "outputs": [
    {
     "data": {
      "text/plain": [
       "<tf.Tensor: shape=(), dtype=float32, numpy=0.0>"
      ]
     },
     "execution_count": 22,
     "metadata": {},
     "output_type": "execute_result"
    }
   ],
   "source": [
    "extrapolationLoss(optimizationModel.trainable_variables, x_feats)"
   ]
  },
  {
   "cell_type": "markdown",
   "metadata": {},
   "source": [
    "In addition to the optimizer, add the custom losses as follows. A default loss can be added in the *compile* method, and it will automatically receive y_true and y_pred (in that order). A custom loss with custom inputs is added using the *add_loss* method. "
   ]
  },
  {
   "cell_type": "code",
   "execution_count": 23,
   "metadata": {},
   "outputs": [],
   "source": [
    "opt = tf.keras.optimizers.Adam(learning_rate=0.0005)\n",
    "optimizationModel.compile(optimizer=opt, loss=maximizationLoss)\n",
    "\n",
    "optimizationModel.add_loss(\n",
    "    lambda : extrapolationLoss(optimizationModel.trainable_variables, x_feats)\n",
    ")"
   ]
  },
  {
   "cell_type": "code",
   "execution_count": 24,
   "metadata": {},
   "outputs": [
    {
     "name": "stdout",
     "output_type": "stream",
     "text": [
      "Epoch 1/50\n",
      "1000/1000 [==============================] - 1s 593us/step - loss: 5.1919\n",
      "Epoch 2/50\n",
      "1000/1000 [==============================] - 1s 583us/step - loss: 0.9997\n",
      "Epoch 3/50\n",
      "1000/1000 [==============================] - 1s 637us/step - loss: 0.9992\n",
      "Epoch 4/50\n",
      "1000/1000 [==============================] - 1s 632us/step - loss: 0.9939\n",
      "Epoch 5/50\n",
      "1000/1000 [==============================] - 1s 643us/step - loss: 0.9439\n",
      "Epoch 6/50\n",
      "1000/1000 [==============================] - 1s 919us/step - loss: 0.7475\n",
      "Epoch 7/50\n",
      "1000/1000 [==============================] - 1s 606us/step - loss: 0.4902\n",
      "Epoch 8/50\n",
      "1000/1000 [==============================] - 1s 603us/step - loss: 0.3618\n",
      "Epoch 9/50\n",
      "1000/1000 [==============================] - 1s 665us/step - loss: 0.3139\n",
      "Epoch 10/50\n",
      "1000/1000 [==============================] - 1s 755us/step - loss: 0.3115\n",
      "Epoch 11/50\n",
      "1000/1000 [==============================] - 1s 908us/step - loss: 0.3112\n",
      "Epoch 12/50\n",
      "1000/1000 [==============================] - 1s 786us/step - loss: 0.3108\n",
      "Epoch 13/50\n",
      "1000/1000 [==============================] - 1s 834us/step - loss: 0.3108\n",
      "Epoch 14/50\n",
      "1000/1000 [==============================] - 1s 758us/step - loss: 0.3108\n",
      "Epoch 15/50\n",
      "1000/1000 [==============================] - 1s 903us/step - loss: 0.3108\n",
      "Epoch 16/50\n",
      "1000/1000 [==============================] - 1s 861us/step - loss: 0.3108\n",
      "Epoch 17/50\n",
      "1000/1000 [==============================] - 1s 733us/step - loss: 0.3108\n",
      "Epoch 18/50\n",
      "1000/1000 [==============================] - 1s 590us/step - loss: 0.3108\n",
      "Epoch 19/50\n",
      "1000/1000 [==============================] - 1s 590us/step - loss: 0.3108\n",
      "Epoch 20/50\n",
      "1000/1000 [==============================] - 1s 591us/step - loss: 0.3108\n",
      "Epoch 21/50\n",
      "1000/1000 [==============================] - 1s 597us/step - loss: 0.3108\n",
      "Epoch 22/50\n",
      "1000/1000 [==============================] - 1s 641us/step - loss: 0.3108\n",
      "Epoch 23/50\n",
      "1000/1000 [==============================] - 1s 715us/step - loss: 0.3108\n",
      "Epoch 24/50\n",
      "1000/1000 [==============================] - 1s 630us/step - loss: 0.3108\n",
      "Epoch 25/50\n",
      "1000/1000 [==============================] - 1s 580us/step - loss: 0.3108\n",
      "Epoch 26/50\n",
      "1000/1000 [==============================] - 1s 569us/step - loss: 0.3108\n",
      "Epoch 27/50\n",
      "1000/1000 [==============================] - 1s 596us/step - loss: 0.3108\n",
      "Epoch 28/50\n",
      "1000/1000 [==============================] - 1s 583us/step - loss: 0.3108\n",
      "Epoch 29/50\n",
      "1000/1000 [==============================] - 1s 567us/step - loss: 0.3108\n",
      "Epoch 30/50\n",
      "1000/1000 [==============================] - 1s 610us/step - loss: 0.3108\n",
      "Epoch 31/50\n",
      "1000/1000 [==============================] - 1s 563us/step - loss: 0.3108\n",
      "Epoch 32/50\n",
      "1000/1000 [==============================] - 1s 583us/step - loss: 0.3108\n",
      "Epoch 33/50\n",
      "1000/1000 [==============================] - 1s 605us/step - loss: 0.3108\n",
      "Epoch 34/50\n",
      "1000/1000 [==============================] - 1s 590us/step - loss: 0.3108\n",
      "Epoch 35/50\n",
      "1000/1000 [==============================] - 1s 556us/step - loss: 0.3108\n",
      "Epoch 36/50\n",
      "1000/1000 [==============================] - 1s 567us/step - loss: 0.3108\n",
      "Epoch 37/50\n",
      "1000/1000 [==============================] - 1s 572us/step - loss: 0.3108\n",
      "Epoch 38/50\n",
      "1000/1000 [==============================] - 1s 563us/step - loss: 0.3108\n",
      "Epoch 39/50\n",
      "1000/1000 [==============================] - 1s 569us/step - loss: 0.3108\n",
      "Epoch 40/50\n",
      "1000/1000 [==============================] - 1s 569us/step - loss: 0.3108\n",
      "Epoch 41/50\n",
      "1000/1000 [==============================] - 1s 565us/step - loss: 0.3108\n",
      "Epoch 42/50\n",
      "1000/1000 [==============================] - 1s 562us/step - loss: 0.3108\n",
      "Epoch 43/50\n",
      "1000/1000 [==============================] - 1s 558us/step - loss: 0.3108\n",
      "Epoch 44/50\n",
      "1000/1000 [==============================] - 1s 583us/step - loss: 0.3108\n",
      "Epoch 45/50\n",
      "1000/1000 [==============================] - 1s 564us/step - loss: 0.3108\n",
      "Epoch 46/50\n",
      "1000/1000 [==============================] - 1s 624us/step - loss: 0.3108\n",
      "Epoch 47/50\n",
      "1000/1000 [==============================] - 1s 562us/step - loss: 0.3108\n",
      "Epoch 48/50\n",
      "1000/1000 [==============================] - 1s 558us/step - loss: 0.3108\n",
      "Epoch 49/50\n",
      "1000/1000 [==============================] - 1s 627us/step - loss: 0.3108\n",
      "Epoch 50/50\n",
      "1000/1000 [==============================] - 1s 784us/step - loss: 0.3108\n"
     ]
    },
    {
     "data": {
      "text/plain": [
       "<tensorflow.python.keras.callbacks.History at 0x14f92fd8240>"
      ]
     },
     "execution_count": 24,
     "metadata": {},
     "output_type": "execute_result"
    }
   ],
   "source": [
    "optimizationModel.fit(x_feats, y, epochs = 50, batch_size=1)"
   ]
  },
  {
   "cell_type": "code",
   "execution_count": 25,
   "metadata": {},
   "outputs": [
    {
     "data": {
      "text/plain": [
       "array([[ 0.10853714,  0.08773184, -1.1939849 , -1.1601902 ]],\n",
       "      dtype=float32)"
      ]
     },
     "execution_count": 25,
     "metadata": {},
     "output_type": "execute_result"
    }
   ],
   "source": [
    "optimizationModel.trainable_variables[0].numpy()"
   ]
  },
  {
   "cell_type": "code",
   "execution_count": 26,
   "metadata": {},
   "outputs": [
    {
     "data": {
      "text/plain": [
       "array([[ 0.08422458, -0.86090374,  0.37812304, -0.00519627]],\n",
       "      dtype=float32)"
      ]
     },
     "execution_count": 26,
     "metadata": {},
     "output_type": "execute_result"
    }
   ],
   "source": [
    "inputInit"
   ]
  },
  {
   "cell_type": "code",
   "execution_count": 27,
   "metadata": {},
   "outputs": [
    {
     "name": "stdout",
     "output_type": "stream",
     "text": [
      "Maximum from optimized input is 1.702\n"
     ]
    }
   ],
   "source": [
    "y = 1 - abs(-0.16720928) - (-0.0865911)**2 - (-1.1929115) - np.exp(-1.1527836)\n",
    "print(\"Maximum from optimized input is \" + str(y.round(3)))"
   ]
  }
 ],
 "metadata": {
  "kernelspec": {
   "display_name": "Python 3",
   "language": "python",
   "name": "python3"
  },
  "language_info": {
   "codemirror_mode": {
    "name": "ipython",
    "version": 3
   },
   "file_extension": ".py",
   "mimetype": "text/x-python",
   "name": "python",
   "nbconvert_exporter": "python",
   "pygments_lexer": "ipython3",
   "version": "3.7.3"
  }
 },
 "nbformat": 4,
 "nbformat_minor": 4
}
